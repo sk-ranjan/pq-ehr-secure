{
  "nbformat": 4,
  "nbformat_minor": 0,
  "metadata": {
    "colab": {
      "provenance": [],
      "authorship_tag": "ABX9TyPAdPh1jOxfTVohHfD4JYRV",
      "include_colab_link": true
    },
    "kernelspec": {
      "name": "python3",
      "display_name": "Python 3"
    },
    "language_info": {
      "name": "python"
    }
  },
  "cells": [
    {
      "cell_type": "markdown",
      "metadata": {
        "id": "view-in-github",
        "colab_type": "text"
      },
      "source": [
        "<a href=\"https://colab.research.google.com/github/sk-ranjan/pq-ehr-secure/blob/main/Untitled8.ipynb\" target=\"_parent\"><img src=\"https://colab.research.google.com/assets/colab-badge.svg\" alt=\"Open In Colab\"/></a>"
      ]
    },
    {
      "cell_type": "code",
      "execution_count": 3,
      "metadata": {
        "id": "6eOZKVBED7Dt"
      },
      "outputs": [],
      "source": [
        "import random"
      ]
    },
    {
      "cell_type": "code",
      "source": [
        "sample_text = \"\"\"\n",
        "Once upon a time there was a king who ruled a vast kingdom.\n",
        "The king was kind and generous, and the people loved him dearly.\n",
        "One day, the king decided to hold a great feast for everyone in the land.\n",
        "\"\"\""
      ],
      "metadata": {
        "id": "8fSqtzyVOQKQ"
      },
      "execution_count": 4,
      "outputs": []
    },
    {
      "cell_type": "code",
      "source": [
        "words = sample_text.split()"
      ],
      "metadata": {
        "id": "_uoURc43ORsA"
      },
      "execution_count": 5,
      "outputs": []
    },
    {
      "cell_type": "code",
      "source": [
        "markov_chain = {}\n",
        "\n",
        "for i in range(len(words)-1):\n",
        "    current_word = words[i]\n",
        "    next_word = words[i+1]\n",
        "\n",
        "    if current_word not in markov_chain:\n",
        "        markov_chain[current_word] = []\n",
        "\n",
        "    markov_chain[current_word].append(next_word)"
      ],
      "metadata": {
        "id": "SgXRhhQmOVHf"
      },
      "execution_count": 6,
      "outputs": []
    },
    {
      "cell_type": "code",
      "source": [
        "def generate_text(chain, num_words=30):\n",
        "    # Start from a random word\n",
        "    word = random.choice(list(chain.keys()))\n",
        "    output = [word]\n",
        "\n",
        "    for _ in range(num_words-1):\n",
        "        if word in chain:\n",
        "            word = random.choice(chain[word])\n",
        "            output.append(word)\n",
        "        else:\n",
        "            break\n",
        "\n",
        "    return ' '.join(output)\n",
        "\n",
        "print(generate_text(markov_chain, 30))"
      ],
      "metadata": {
        "colab": {
          "base_uri": "https://localhost:8080/"
        },
        "id": "g8MKXRlLOVYR",
        "outputId": "655f6b21-9f1d-428e-c593-ab103d3e5ecd"
      },
      "execution_count": 7,
      "outputs": [
        {
          "output_type": "stream",
          "name": "stdout",
          "text": [
            "everyone in the people loved him dearly. One day, the king who ruled a great feast for everyone in the land.\n"
          ]
        }
      ]
    }
  ]
}